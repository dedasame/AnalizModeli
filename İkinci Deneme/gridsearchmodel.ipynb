{
  "nbformat": 4,
  "nbformat_minor": 0,
  "metadata": {
    "colab": {
      "provenance": []
    },
    "kernelspec": {
      "name": "python3",
      "display_name": "Python 3"
    },
    "language_info": {
      "name": "python"
    }
  },
  "cells": [
    {
      "cell_type": "code",
      "execution_count": 1,
      "metadata": {
        "id": "HV733j3R3RbH"
      },
      "outputs": [],
      "source": [
        "from sklearn.feature_extraction.text import TfidfVectorizer\n",
        "from sklearn.model_selection import train_test_split\n",
        "from sklearn.model_selection import cross_val_score\n",
        "from sklearn.model_selection import GridSearchCV\n",
        "from sklearn.tree import DecisionTreeClassifier\n",
        "import pandas as pd\n",
        "import string"
      ]
    },
    {
      "cell_type": "code",
      "source": [
        "df = pd.read_excel(\"/content/etiketlidata.xlsx\")"
      ],
      "metadata": {
        "id": "NGd12lzM3gAs"
      },
      "execution_count": 11,
      "outputs": []
    },
    {
      "cell_type": "code",
      "source": [
        "## Yine aynı hatayı verdiği için; str.lower() , astype('U') değişikliklerini yaptım.\n",
        "X = df.clean.str.lower().to_numpy()\n",
        "X = df.clean.astype('U').to_numpy()\n",
        "\n",
        "df = df.dropna(subset=['clean', 'etiket']) ## Hata için??\n",
        "X = df.clean.to_numpy()\n",
        "y = df.etiket.to_numpy()\n",
        "\n",
        "X_train, X_test, y_train, y_test = train_test_split(\n",
        "    X, y, test_size=0.2, random_state=42)\n",
        "\n",
        "vectorizer = TfidfVectorizer(input='content')\n",
        "\n",
        "X_train = vectorizer.fit_transform(X_train)\n",
        "X_test = vectorizer.transform(X_test)"
      ],
      "metadata": {
        "id": "YQY5J0z53mwX"
      },
      "execution_count": 14,
      "outputs": []
    },
    {
      "cell_type": "code",
      "source": [
        "# Hyperparams: criterion=\"gini\", max_depth=2\n",
        "clf = DecisionTreeClassifier(criterion=\"gini\", max_depth=2)\n",
        "clf.fit(X_train, y_train)\n",
        "clf.score(X_test, y_test)"
      ],
      "metadata": {
        "colab": {
          "base_uri": "https://localhost:8080/"
        },
        "id": "oE0ezYP63tPe",
        "outputId": "2b86376a-6d08-4507-c2e0-07cd95a2fe23"
      },
      "execution_count": 15,
      "outputs": [
        {
          "output_type": "execute_result",
          "data": {
            "text/plain": [
              "0.8441967530894112"
            ]
          },
          "metadata": {},
          "execution_count": 15
        }
      ]
    },
    {
      "cell_type": "code",
      "source": [
        "# Hyperparams: criterion=\"entropy\", max_depth=5\n",
        "clf = DecisionTreeClassifier(criterion=\"entropy\", max_depth=5)\n",
        "clf.fit(X_train, y_train)\n",
        "clf.score(X_test, y_test)"
      ],
      "metadata": {
        "colab": {
          "base_uri": "https://localhost:8080/"
        },
        "id": "-725Aomm3vub",
        "outputId": "4e6c16aa-4cb3-47eb-91cd-d85f5098a0d1"
      },
      "execution_count": 16,
      "outputs": [
        {
          "output_type": "execute_result",
          "data": {
            "text/plain": [
              "0.8500121153380179"
            ]
          },
          "metadata": {},
          "execution_count": 16
        }
      ]
    },
    {
      "cell_type": "code",
      "source": [
        "# CV with 5-folds\n",
        "clf = DecisionTreeClassifier(criterion=\"entropy\", max_depth=5)\n",
        "scores = cross_val_score(clf, X_train, y_train, cv=5)\n",
        "scores"
      ],
      "metadata": {
        "colab": {
          "base_uri": "https://localhost:8080/"
        },
        "id": "mjOqCr1X3zhP",
        "outputId": "8f105891-967c-4f03-e069-1b7d7fb1d477"
      },
      "execution_count": 17,
      "outputs": [
        {
          "output_type": "execute_result",
          "data": {
            "text/plain": [
              "array([0.8555421 , 0.85095426, 0.85034838, 0.84883369, 0.85216601])"
            ]
          },
          "metadata": {},
          "execution_count": 17
        }
      ]
    },
    {
      "cell_type": "code",
      "source": [
        "print(scores.mean(), scores.std())"
      ],
      "metadata": {
        "colab": {
          "base_uri": "https://localhost:8080/"
        },
        "id": "6sMDEhCN31cs",
        "outputId": "1283bf08-09c3-4aa4-890b-ad671b298030"
      },
      "execution_count": 18,
      "outputs": [
        {
          "output_type": "stream",
          "name": "stdout",
          "text": [
            "0.8515688856652106 0.002257949244846465\n"
          ]
        }
      ]
    },
    {
      "cell_type": "code",
      "source": [
        "# Grid search\n",
        "parameters = {\"criterion\": [\"entropy\", \"gini\", \"log_loss\"],\n",
        "              \"max_depth\": range(2, 6)}\n",
        "clf = GridSearchCV(DecisionTreeClassifier(), parameters,\n",
        "                   cv=5, n_jobs=4, verbose=3)\n",
        "clf.fit(X_train, y_train)\n",
        "print(\"Best score:\", clf.best_score_, \"Best params:\", clf.best_params_)\n",
        "tree = clf.best_estimator_"
      ],
      "metadata": {
        "colab": {
          "base_uri": "https://localhost:8080/"
        },
        "id": "FRQS3E4U33zl",
        "outputId": "e82d56a7-9b99-45ec-8e4b-a7d364860864"
      },
      "execution_count": 19,
      "outputs": [
        {
          "output_type": "stream",
          "name": "stdout",
          "text": [
            "Fitting 5 folds for each of 12 candidates, totalling 60 fits\n",
            "Best score: 0.8540528896498335 Best params: {'criterion': 'gini', 'max_depth': 5}\n"
          ]
        }
      ]
    },
    {
      "cell_type": "code",
      "source": [
        "print(tree.score(X_train, y_train))\n",
        "print(tree.score(X_test, y_test))"
      ],
      "metadata": {
        "colab": {
          "base_uri": "https://localhost:8080/"
        },
        "id": "zEAoGq9L37gN",
        "outputId": "0b2ddd8a-c987-4e7c-ea99-455a44175b5c"
      },
      "execution_count": 20,
      "outputs": [
        {
          "output_type": "stream",
          "name": "stdout",
          "text": [
            "0.8585968738640495\n",
            "0.8507390356190938\n"
          ]
        }
      ]
    }
  ]
}
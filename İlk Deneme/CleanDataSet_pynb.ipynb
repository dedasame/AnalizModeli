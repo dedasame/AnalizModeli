{
  "nbformat": 4,
  "nbformat_minor": 0,
  "metadata": {
    "colab": {
      "provenance": []
    },
    "kernelspec": {
      "name": "python3",
      "display_name": "Python 3"
    },
    "language_info": {
      "name": "python"
    }
  },
  "cells": [
    {
      "cell_type": "code",
      "source": [
        "!pip install simplemma"
      ],
      "metadata": {
        "colab": {
          "base_uri": "https://localhost:8080/"
        },
        "id": "WYe3OL2w7HAF",
        "outputId": "51517661-dff5-477f-8ab1-f65447165766"
      },
      "execution_count": null,
      "outputs": [
        {
          "output_type": "stream",
          "name": "stdout",
          "text": [
            "Requirement already satisfied: simplemma in /usr/local/lib/python3.10/dist-packages (0.9.1)\n"
          ]
        }
      ]
    },
    {
      "cell_type": "code",
      "source": [
        "from simplemma import text_lemmatizer\n",
        "import pandas as pd\n",
        "import numpy as np\n",
        "import ast\n",
        "import re"
      ],
      "metadata": {
        "id": "NPJaFvYH57Uw"
      },
      "execution_count": null,
      "outputs": []
    },
    {
      "cell_type": "code",
      "source": [
        "stop_words = None\n",
        "with open(\"stopwords.txt\", \"r\") as stop_file:\n",
        "    stop_words = set(stop_file.read().splitlines())"
      ],
      "metadata": {
        "id": "PjVspQsttE3E"
      },
      "execution_count": null,
      "outputs": []
    },
    {
      "cell_type": "code",
      "source": [
        "def clean_text(text):\n",
        "    text = text.replace(\"Â\", \"a\")\n",
        "    text = text.replace(\"â\", \"a\")\n",
        "    text = text.replace(\"î\", \"i\")\n",
        "    text = text.replace(\"Î\", \"ı\")\n",
        "    text = text.replace(\"İ\", \"i\")\n",
        "    text = text.replace(\"I\", \"ı\")\n",
        "    text = text.replace(u\"\\u00A0\", \" \")\n",
        "    text = text.replace(\"|\", \" \")\n",
        "\n",
        "    text = re.sub(r\"@[A-Za-z0-9]+\", \" \", text)\n",
        "    text = re.sub(r\"(.)\\1+\", r\"\\1\\1\", text)\n",
        "    text = re.sub(r\"https?:\\/\\/\\S+\", \" \", text)\n",
        "    text = re.sub(r\"http?:\\/\\/\\S+\", \" \", text)\n",
        "    text = re.sub(r\"\\n\", \" \", text)\n",
        "    text = re.sub(r\"#(\\w+)\", \" \", text)\n",
        "    text = re.sub(r\"^\\x00-\\x7F]+\", \" \", text)\n",
        "    text = re.sub(r\"[^A-Za-zâîığüşöçİĞÜŞÖÇ]+\", \" \", text)\n",
        "    text = re.sub(r\"((https://[^\\s]+))\", \" \", text)\n",
        "\n",
        "    text = \" \".join(text.lower().strip().split())\n",
        "    text = text_lemmatizer(text, lang=\"tr\")\n",
        "\n",
        "    return \" \".join([word for word in text if word not in stop_words])"
      ],
      "metadata": {
        "id": "wBpBd7V9tHo4"
      },
      "execution_count": null,
      "outputs": []
    },
    {
      "cell_type": "markdown",
      "source": [
        "VERİ SETİMİZ"
      ],
      "metadata": {
        "id": "am-S-3YVtY8H"
      }
    },
    {
      "cell_type": "code",
      "source": [
        "df = pd.read_excel(\"/content/SteamTürkçeEtiketlenmişYorumlar.xlsx\")\n",
        "df.head()"
      ],
      "metadata": {
        "colab": {
          "base_uri": "https://localhost:8080/",
          "height": 206
        },
        "id": "6jm-enrqtPvd",
        "outputId": "e678809b-36ac-40ef-e5bb-1a2532e2f18c"
      },
      "execution_count": null,
      "outputs": [
        {
          "output_type": "execute_result",
          "data": {
            "text/plain": [
              "                                            yorumlar  etiket\n",
              "0                            Sinirlendiğim tek oyun.       1\n",
              "1    Ayakkabıyı tasarlayanın ailevi değerlerine koum       0\n",
              "2  Öğrenince keyifli olmaya başlıyor ama oyunun b...       1\n",
              "3                                   nice combat game       1\n",
              "4  Çok uzatmaya gerek yok arkana yaslan chill bir...       1"
            ],
            "text/html": [
              "\n",
              "  <div id=\"df-cc27aa04-73c7-4b45-860b-52e79697bdae\" class=\"colab-df-container\">\n",
              "    <div>\n",
              "<style scoped>\n",
              "    .dataframe tbody tr th:only-of-type {\n",
              "        vertical-align: middle;\n",
              "    }\n",
              "\n",
              "    .dataframe tbody tr th {\n",
              "        vertical-align: top;\n",
              "    }\n",
              "\n",
              "    .dataframe thead th {\n",
              "        text-align: right;\n",
              "    }\n",
              "</style>\n",
              "<table border=\"1\" class=\"dataframe\">\n",
              "  <thead>\n",
              "    <tr style=\"text-align: right;\">\n",
              "      <th></th>\n",
              "      <th>yorumlar</th>\n",
              "      <th>etiket</th>\n",
              "    </tr>\n",
              "  </thead>\n",
              "  <tbody>\n",
              "    <tr>\n",
              "      <th>0</th>\n",
              "      <td>Sinirlendiğim tek oyun.</td>\n",
              "      <td>1</td>\n",
              "    </tr>\n",
              "    <tr>\n",
              "      <th>1</th>\n",
              "      <td>Ayakkabıyı tasarlayanın ailevi değerlerine koum</td>\n",
              "      <td>0</td>\n",
              "    </tr>\n",
              "    <tr>\n",
              "      <th>2</th>\n",
              "      <td>Öğrenince keyifli olmaya başlıyor ama oyunun b...</td>\n",
              "      <td>1</td>\n",
              "    </tr>\n",
              "    <tr>\n",
              "      <th>3</th>\n",
              "      <td>nice combat game</td>\n",
              "      <td>1</td>\n",
              "    </tr>\n",
              "    <tr>\n",
              "      <th>4</th>\n",
              "      <td>Çok uzatmaya gerek yok arkana yaslan chill bir...</td>\n",
              "      <td>1</td>\n",
              "    </tr>\n",
              "  </tbody>\n",
              "</table>\n",
              "</div>\n",
              "    <div class=\"colab-df-buttons\">\n",
              "\n",
              "  <div class=\"colab-df-container\">\n",
              "    <button class=\"colab-df-convert\" onclick=\"convertToInteractive('df-cc27aa04-73c7-4b45-860b-52e79697bdae')\"\n",
              "            title=\"Convert this dataframe to an interactive table.\"\n",
              "            style=\"display:none;\">\n",
              "\n",
              "  <svg xmlns=\"http://www.w3.org/2000/svg\" height=\"24px\" viewBox=\"0 -960 960 960\">\n",
              "    <path d=\"M120-120v-720h720v720H120Zm60-500h600v-160H180v160Zm220 220h160v-160H400v160Zm0 220h160v-160H400v160ZM180-400h160v-160H180v160Zm440 0h160v-160H620v160ZM180-180h160v-160H180v160Zm440 0h160v-160H620v160Z\"/>\n",
              "  </svg>\n",
              "    </button>\n",
              "\n",
              "  <style>\n",
              "    .colab-df-container {\n",
              "      display:flex;\n",
              "      gap: 12px;\n",
              "    }\n",
              "\n",
              "    .colab-df-convert {\n",
              "      background-color: #E8F0FE;\n",
              "      border: none;\n",
              "      border-radius: 50%;\n",
              "      cursor: pointer;\n",
              "      display: none;\n",
              "      fill: #1967D2;\n",
              "      height: 32px;\n",
              "      padding: 0 0 0 0;\n",
              "      width: 32px;\n",
              "    }\n",
              "\n",
              "    .colab-df-convert:hover {\n",
              "      background-color: #E2EBFA;\n",
              "      box-shadow: 0px 1px 2px rgba(60, 64, 67, 0.3), 0px 1px 3px 1px rgba(60, 64, 67, 0.15);\n",
              "      fill: #174EA6;\n",
              "    }\n",
              "\n",
              "    .colab-df-buttons div {\n",
              "      margin-bottom: 4px;\n",
              "    }\n",
              "\n",
              "    [theme=dark] .colab-df-convert {\n",
              "      background-color: #3B4455;\n",
              "      fill: #D2E3FC;\n",
              "    }\n",
              "\n",
              "    [theme=dark] .colab-df-convert:hover {\n",
              "      background-color: #434B5C;\n",
              "      box-shadow: 0px 1px 3px 1px rgba(0, 0, 0, 0.15);\n",
              "      filter: drop-shadow(0px 1px 2px rgba(0, 0, 0, 0.3));\n",
              "      fill: #FFFFFF;\n",
              "    }\n",
              "  </style>\n",
              "\n",
              "    <script>\n",
              "      const buttonEl =\n",
              "        document.querySelector('#df-cc27aa04-73c7-4b45-860b-52e79697bdae button.colab-df-convert');\n",
              "      buttonEl.style.display =\n",
              "        google.colab.kernel.accessAllowed ? 'block' : 'none';\n",
              "\n",
              "      async function convertToInteractive(key) {\n",
              "        const element = document.querySelector('#df-cc27aa04-73c7-4b45-860b-52e79697bdae');\n",
              "        const dataTable =\n",
              "          await google.colab.kernel.invokeFunction('convertToInteractive',\n",
              "                                                    [key], {});\n",
              "        if (!dataTable) return;\n",
              "\n",
              "        const docLinkHtml = 'Like what you see? Visit the ' +\n",
              "          '<a target=\"_blank\" href=https://colab.research.google.com/notebooks/data_table.ipynb>data table notebook</a>'\n",
              "          + ' to learn more about interactive tables.';\n",
              "        element.innerHTML = '';\n",
              "        dataTable['output_type'] = 'display_data';\n",
              "        await google.colab.output.renderOutput(dataTable, element);\n",
              "        const docLink = document.createElement('div');\n",
              "        docLink.innerHTML = docLinkHtml;\n",
              "        element.appendChild(docLink);\n",
              "      }\n",
              "    </script>\n",
              "  </div>\n",
              "\n",
              "\n",
              "<div id=\"df-a0c75a6a-240b-41e7-91d2-d3488e1c2e17\">\n",
              "  <button class=\"colab-df-quickchart\" onclick=\"quickchart('df-a0c75a6a-240b-41e7-91d2-d3488e1c2e17')\"\n",
              "            title=\"Suggest charts\"\n",
              "            style=\"display:none;\">\n",
              "\n",
              "<svg xmlns=\"http://www.w3.org/2000/svg\" height=\"24px\"viewBox=\"0 0 24 24\"\n",
              "     width=\"24px\">\n",
              "    <g>\n",
              "        <path d=\"M19 3H5c-1.1 0-2 .9-2 2v14c0 1.1.9 2 2 2h14c1.1 0 2-.9 2-2V5c0-1.1-.9-2-2-2zM9 17H7v-7h2v7zm4 0h-2V7h2v10zm4 0h-2v-4h2v4z\"/>\n",
              "    </g>\n",
              "</svg>\n",
              "  </button>\n",
              "\n",
              "<style>\n",
              "  .colab-df-quickchart {\n",
              "      --bg-color: #E8F0FE;\n",
              "      --fill-color: #1967D2;\n",
              "      --hover-bg-color: #E2EBFA;\n",
              "      --hover-fill-color: #174EA6;\n",
              "      --disabled-fill-color: #AAA;\n",
              "      --disabled-bg-color: #DDD;\n",
              "  }\n",
              "\n",
              "  [theme=dark] .colab-df-quickchart {\n",
              "      --bg-color: #3B4455;\n",
              "      --fill-color: #D2E3FC;\n",
              "      --hover-bg-color: #434B5C;\n",
              "      --hover-fill-color: #FFFFFF;\n",
              "      --disabled-bg-color: #3B4455;\n",
              "      --disabled-fill-color: #666;\n",
              "  }\n",
              "\n",
              "  .colab-df-quickchart {\n",
              "    background-color: var(--bg-color);\n",
              "    border: none;\n",
              "    border-radius: 50%;\n",
              "    cursor: pointer;\n",
              "    display: none;\n",
              "    fill: var(--fill-color);\n",
              "    height: 32px;\n",
              "    padding: 0;\n",
              "    width: 32px;\n",
              "  }\n",
              "\n",
              "  .colab-df-quickchart:hover {\n",
              "    background-color: var(--hover-bg-color);\n",
              "    box-shadow: 0 1px 2px rgba(60, 64, 67, 0.3), 0 1px 3px 1px rgba(60, 64, 67, 0.15);\n",
              "    fill: var(--button-hover-fill-color);\n",
              "  }\n",
              "\n",
              "  .colab-df-quickchart-complete:disabled,\n",
              "  .colab-df-quickchart-complete:disabled:hover {\n",
              "    background-color: var(--disabled-bg-color);\n",
              "    fill: var(--disabled-fill-color);\n",
              "    box-shadow: none;\n",
              "  }\n",
              "\n",
              "  .colab-df-spinner {\n",
              "    border: 2px solid var(--fill-color);\n",
              "    border-color: transparent;\n",
              "    border-bottom-color: var(--fill-color);\n",
              "    animation:\n",
              "      spin 1s steps(1) infinite;\n",
              "  }\n",
              "\n",
              "  @keyframes spin {\n",
              "    0% {\n",
              "      border-color: transparent;\n",
              "      border-bottom-color: var(--fill-color);\n",
              "      border-left-color: var(--fill-color);\n",
              "    }\n",
              "    20% {\n",
              "      border-color: transparent;\n",
              "      border-left-color: var(--fill-color);\n",
              "      border-top-color: var(--fill-color);\n",
              "    }\n",
              "    30% {\n",
              "      border-color: transparent;\n",
              "      border-left-color: var(--fill-color);\n",
              "      border-top-color: var(--fill-color);\n",
              "      border-right-color: var(--fill-color);\n",
              "    }\n",
              "    40% {\n",
              "      border-color: transparent;\n",
              "      border-right-color: var(--fill-color);\n",
              "      border-top-color: var(--fill-color);\n",
              "    }\n",
              "    60% {\n",
              "      border-color: transparent;\n",
              "      border-right-color: var(--fill-color);\n",
              "    }\n",
              "    80% {\n",
              "      border-color: transparent;\n",
              "      border-right-color: var(--fill-color);\n",
              "      border-bottom-color: var(--fill-color);\n",
              "    }\n",
              "    90% {\n",
              "      border-color: transparent;\n",
              "      border-bottom-color: var(--fill-color);\n",
              "    }\n",
              "  }\n",
              "</style>\n",
              "\n",
              "  <script>\n",
              "    async function quickchart(key) {\n",
              "      const quickchartButtonEl =\n",
              "        document.querySelector('#' + key + ' button');\n",
              "      quickchartButtonEl.disabled = true;  // To prevent multiple clicks.\n",
              "      quickchartButtonEl.classList.add('colab-df-spinner');\n",
              "      try {\n",
              "        const charts = await google.colab.kernel.invokeFunction(\n",
              "            'suggestCharts', [key], {});\n",
              "      } catch (error) {\n",
              "        console.error('Error during call to suggestCharts:', error);\n",
              "      }\n",
              "      quickchartButtonEl.classList.remove('colab-df-spinner');\n",
              "      quickchartButtonEl.classList.add('colab-df-quickchart-complete');\n",
              "    }\n",
              "    (() => {\n",
              "      let quickchartButtonEl =\n",
              "        document.querySelector('#df-a0c75a6a-240b-41e7-91d2-d3488e1c2e17 button');\n",
              "      quickchartButtonEl.style.display =\n",
              "        google.colab.kernel.accessAllowed ? 'block' : 'none';\n",
              "    })();\n",
              "  </script>\n",
              "</div>\n",
              "\n",
              "    </div>\n",
              "  </div>\n"
            ]
          },
          "metadata": {},
          "execution_count": 56
        }
      ]
    },
    {
      "cell_type": "code",
      "source": [
        "len(df)"
      ],
      "metadata": {
        "colab": {
          "base_uri": "https://localhost:8080/"
        },
        "id": "ytk4u7A5tNCN",
        "outputId": "262fdaa3-3696-49e7-8948-04e4864c60a3"
      },
      "execution_count": null,
      "outputs": [
        {
          "output_type": "execute_result",
          "data": {
            "text/plain": [
              "500"
            ]
          },
          "metadata": {},
          "execution_count": 57
        }
      ]
    },
    {
      "cell_type": "code",
      "source": [
        "df[\"yorumlar\"]"
      ],
      "metadata": {
        "colab": {
          "base_uri": "https://localhost:8080/"
        },
        "id": "g9xybiwitgLO",
        "outputId": "c1b62f25-eece-4583-cc3c-bcabc65b0531"
      },
      "execution_count": null,
      "outputs": [
        {
          "output_type": "execute_result",
          "data": {
            "text/plain": [
              "0                                Sinirlendiğim tek oyun.\n",
              "1        Ayakkabıyı tasarlayanın ailevi değerlerine koum\n",
              "2      Öğrenince keyifli olmaya başlıyor ama oyunun b...\n",
              "3                                       nice combat game\n",
              "4      Çok uzatmaya gerek yok arkana yaslan chill bir...\n",
              "                             ...                        \n",
              "495    güncellemeler ile iyice toparlandı artık daha ...\n",
              "496    oyun son guncelemsınıyle gercekten bır oyuna d...\n",
              "497             oynadığım en sıkıcı ve en overrated oyun\n",
              "498    Oğul mu ? Düşman mı? Belli değil yapma diyorsu...\n",
              "499    Çocukluğumun oyunu olan şu oyuna denilecek hiç...\n",
              "Name: yorumlar, Length: 500, dtype: object"
            ]
          },
          "metadata": {},
          "execution_count": 61
        }
      ]
    },
    {
      "cell_type": "code",
      "source": [
        "df['clean'] = df['yorumlar'].apply(clean_text)"
      ],
      "metadata": {
        "id": "OxHmIacbvDyd"
      },
      "execution_count": null,
      "outputs": []
    },
    {
      "cell_type": "code",
      "source": [
        "df.to_excel('temizlenmis_veriler.xlsx', index=False)"
      ],
      "metadata": {
        "id": "e4hNMgk2v3Bb"
      },
      "execution_count": null,
      "outputs": []
    },
    {
      "cell_type": "code",
      "source": [
        "import random\n",
        "for i in range(3):\n",
        "    rand_idx = random.randrange(len(df))\n",
        "    ozet = df.iloc[rand_idx][\"yorumlar\"]\n",
        "    print(\"Orijinal:\")\n",
        "    print(ozet + \"\\n\")\n",
        "    print(\"Temizlenmiş:\")\n",
        "    print(df.iloc[rand_idx][\"clean\"])\n",
        "    print(\"/\" * 50 + \"\\n\")"
      ],
      "metadata": {
        "colab": {
          "base_uri": "https://localhost:8080/"
        },
        "id": "Gbgj1Ag0wH4D",
        "outputId": "d41c9337-05a5-44e8-bfaa-bd1d8a3f6f43"
      },
      "execution_count": null,
      "outputs": [
        {
          "output_type": "stream",
          "name": "stdout",
          "text": [
            "Orijinal:\n",
            "PARÇALA KATLET ÖLDÜR ACIMA MERHAMET YOK DÖV KIR PARÇALA PARÇALARINA AYIR ORGANLARINI DEŞ ÇENESİNİ PATLAT CANAVARLAR SANA SALDIRDIĞINA PİŞMAN OLSUN TARAMALI TÜFEKLE BEYİNLERİNİ HAVAYA UÇUR TESTEREYLE İKİYE BÖL AAAAAAAAAA\n",
            "\n",
            "Temizlenmiş:\n",
            "parçala katlet öl acı merhamet yok döv kır parçala parça ayır organ deş çene patla canavar san sal pişman tarama tüfek beyin hava uçur testere böl aa\n",
            "//////////////////////////////////////////////////\n",
            "\n",
            "Orijinal:\n",
            "Sovyet-Amerikan çekişmesi ile başlayan oyunumuz,bir nükleer savaş sonrası oyunudur. Teknoloji ilerlemiş,çağ ilerlemiş ve Amerika yeni savaşlar yapıp çıkmıştır. Ama bir gün,bir nükleer bomba ile dünya tarihi değişecektir. Savaştan dönmüş olan ve bir ailesi olan karakterimiz,maalesef bu dünyada ailesini kaybederek ve çalınan oğlunu aramak için uzun ve amansız bir maceraya çıkar,vault-tec in yer altı sığınaklarından,dondurulmuş küvezinden çıktıktan sonra. Karakterimizin,adaptasyon süreci kolay ve basit olmaz ama yeni dünyaya alışmaktan başka seçeneği yoktur. Seçimler üzerine kurulu olan Fallout 4,sizi ve etrafınızda ki insanları etkileyecektir.Dikkatli olun,bu dünya artık eski dünya değildir.\n",
            "\n",
            "Temizlenmiş:\n",
            "sovyet amerikan çekiş başla oyun nükleer savaş oyun teknoloji ilerle çağ ilerle amerika yeni savaş çık gün nükleer bomba dünya tarihi değiş savaş dön aile karakter maalesef dünya aile kaybet çal oğul ara uzun amansız macera çıkar vault tec yer altı sığınak dondurulmuş küvezinde çık karakter adaptasyon süreç kolay basit yeni dünya alış başka seçenek yok seçim üzer kurul fallout etraf insan etkile dikkat dünya eski dünya\n",
            "//////////////////////////////////////////////////\n",
            "\n",
            "Orijinal:\n",
            "oyun bence süper ama komşularım beğenmedi muhtemelen\n",
            "\n",
            "Temizlenmiş:\n",
            "oyun süper komşu beğen muhtemelen\n",
            "//////////////////////////////////////////////////\n",
            "\n"
          ]
        }
      ]
    }
  ]
}
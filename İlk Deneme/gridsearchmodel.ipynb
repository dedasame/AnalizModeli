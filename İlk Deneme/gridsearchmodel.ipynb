{
  "nbformat": 4,
  "nbformat_minor": 0,
  "metadata": {
    "colab": {
      "provenance": []
    },
    "kernelspec": {
      "name": "python3",
      "display_name": "Python 3"
    },
    "language_info": {
      "name": "python"
    }
  },
  "cells": [
    {
      "cell_type": "code",
      "execution_count": null,
      "metadata": {
        "id": "HV733j3R3RbH"
      },
      "outputs": [],
      "source": [
        "from sklearn.feature_extraction.text import TfidfVectorizer\n",
        "from sklearn.model_selection import train_test_split\n",
        "from sklearn.model_selection import cross_val_score\n",
        "from sklearn.model_selection import GridSearchCV\n",
        "from sklearn.tree import DecisionTreeClassifier\n",
        "import pandas as pd\n",
        "import string"
      ]
    },
    {
      "cell_type": "code",
      "source": [
        "df = pd.read_excel(\"/content/temizlenmis_veriler.xlsx\")"
      ],
      "metadata": {
        "id": "NGd12lzM3gAs"
      },
      "execution_count": null,
      "outputs": []
    },
    {
      "cell_type": "code",
      "source": [
        "X = df.clean.to_numpy()\n",
        "y = df.etiket.to_numpy()\n",
        "\n",
        "X_train, X_test, y_train, y_test = train_test_split(\n",
        "    X, y, test_size=0.2, random_state=42)\n",
        "\n",
        "vectorizer = TfidfVectorizer()\n",
        "\n",
        "X_train = vectorizer.fit_transform(X_train)\n",
        "X_test = vectorizer.transform(X_test)"
      ],
      "metadata": {
        "id": "YQY5J0z53mwX"
      },
      "execution_count": null,
      "outputs": []
    },
    {
      "cell_type": "code",
      "source": [
        "# Hyperparams: criterion=\"gini\", max_depth=2\n",
        "clf = DecisionTreeClassifier(criterion=\"gini\", max_depth=2)\n",
        "clf.fit(X_train, y_train)\n",
        "clf.score(X_test, y_test)"
      ],
      "metadata": {
        "colab": {
          "base_uri": "https://localhost:8080/"
        },
        "id": "oE0ezYP63tPe",
        "outputId": "273e2e30-70cb-4027-94b1-373026af90c0"
      },
      "execution_count": null,
      "outputs": [
        {
          "output_type": "execute_result",
          "data": {
            "text/plain": [
              "0.48"
            ]
          },
          "metadata": {},
          "execution_count": 6
        }
      ]
    },
    {
      "cell_type": "code",
      "source": [
        "# Hyperparams: criterion=\"entropy\", max_depth=5\n",
        "clf = DecisionTreeClassifier(criterion=\"entropy\", max_depth=5)\n",
        "clf.fit(X_train, y_train)\n",
        "clf.score(X_test, y_test)"
      ],
      "metadata": {
        "colab": {
          "base_uri": "https://localhost:8080/"
        },
        "id": "-725Aomm3vub",
        "outputId": "e5229843-464a-40f1-d1e2-3f8c1e8a7177"
      },
      "execution_count": null,
      "outputs": [
        {
          "output_type": "execute_result",
          "data": {
            "text/plain": [
              "0.56"
            ]
          },
          "metadata": {},
          "execution_count": 7
        }
      ]
    },
    {
      "cell_type": "code",
      "source": [
        "# CV with 5-folds\n",
        "clf = DecisionTreeClassifier(criterion=\"entropy\", max_depth=5)\n",
        "scores = cross_val_score(clf, X_train, y_train, cv=5)\n",
        "scores"
      ],
      "metadata": {
        "colab": {
          "base_uri": "https://localhost:8080/"
        },
        "id": "mjOqCr1X3zhP",
        "outputId": "296b4761-3a49-4d67-bcad-75589481a37c"
      },
      "execution_count": null,
      "outputs": [
        {
          "output_type": "execute_result",
          "data": {
            "text/plain": [
              "array([0.6   , 0.625 , 0.575 , 0.6625, 0.6375])"
            ]
          },
          "metadata": {},
          "execution_count": 12
        }
      ]
    },
    {
      "cell_type": "code",
      "source": [
        "print(scores.mean(), scores.std())"
      ],
      "metadata": {
        "colab": {
          "base_uri": "https://localhost:8080/"
        },
        "id": "6sMDEhCN31cs",
        "outputId": "bb4f05f2-7fcb-45c3-d7a4-febdf4e56308"
      },
      "execution_count": null,
      "outputs": [
        {
          "output_type": "stream",
          "name": "stdout",
          "text": [
            "0.6199999999999999 0.030207614933986437\n"
          ]
        }
      ]
    },
    {
      "cell_type": "code",
      "source": [
        "# Grid search\n",
        "parameters = {\"criterion\": [\"entropy\", \"gini\", \"log_loss\"],\n",
        "              \"max_depth\": range(2, 6)}\n",
        "clf = GridSearchCV(DecisionTreeClassifier(), parameters,\n",
        "                   cv=5, n_jobs=4, verbose=3)\n",
        "clf.fit(X_train, y_train)\n",
        "print(\"Best score:\", clf.best_score_, \"Best params:\", clf.best_params_)\n",
        "tree = clf.best_estimator_"
      ],
      "metadata": {
        "colab": {
          "base_uri": "https://localhost:8080/"
        },
        "id": "FRQS3E4U33zl",
        "outputId": "ff8d1c5f-a45f-4d17-89bb-009a41e8c457"
      },
      "execution_count": null,
      "outputs": [
        {
          "output_type": "stream",
          "name": "stdout",
          "text": [
            "Fitting 5 folds for each of 12 candidates, totalling 60 fits\n",
            "Best score: 0.6224999999999999 Best params: {'criterion': 'gini', 'max_depth': 5}\n"
          ]
        }
      ]
    },
    {
      "cell_type": "code",
      "source": [
        "print(tree.score(X_train, y_train))\n",
        "print(tree.score(X_test, y_test))"
      ],
      "metadata": {
        "colab": {
          "base_uri": "https://localhost:8080/"
        },
        "id": "zEAoGq9L37gN",
        "outputId": "9f586d89-5ceb-4d11-d211-e551e285335e"
      },
      "execution_count": null,
      "outputs": [
        {
          "output_type": "stream",
          "name": "stdout",
          "text": [
            "0.7275\n",
            "0.54\n"
          ]
        }
      ]
    }
  ]
}